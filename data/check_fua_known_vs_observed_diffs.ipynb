{
 "cells": [
  {
   "cell_type": "markdown",
   "id": "08245a5b-b693-43d9-8159-05de0d1dc968",
   "metadata": {},
   "source": [
    "# Known vs. Observed Diffs in FUA testing\n",
    "\n",
    "* Download CI artifact zip\n",
    "* Put in the same directory\n",
    "* Run"
   ]
  },
  {
   "cell_type": "code",
   "execution_count": null,
   "id": "b152cfaa-512f-47b0-bdac-6e1314bbcdac",
   "metadata": {},
   "outputs": [],
   "source": [
    "%load_ext watermark\n",
    "%watermark"
   ]
  },
  {
   "cell_type": "code",
   "execution_count": null,
   "id": "fb19cecd-1fc9-4374-8854-a8bb85b5cae7",
   "metadata": {},
   "outputs": [],
   "source": [
    "import pathlib\n",
    "\n",
    "import geopandas\n",
    "from IPython.display import Image\n",
    "\n",
    "%watermark -w\n",
    "%watermark -iv"
   ]
  },
  {
   "cell_type": "code",
   "execution_count": null,
   "id": "b9eac577-d3be-4b2d-a0e8-c01e4808c9ae",
   "metadata": {},
   "outputs": [],
   "source": [
    "ci_artifacts = pathlib.Path(\"ci_artifacts\")\n",
    "if not (ci_artifacts.is_dir() and ci_artifacts.exists()):\n",
    "    raise RuntimeError(\"No `ci_artifacts` directory here...\")"
   ]
  },
  {
   "cell_type": "code",
   "execution_count": null,
   "id": "772d2e5f-95fc-41d4-bf69-ed4209245f46",
   "metadata": {},
   "outputs": [],
   "source": [
    "COL = \"known_or_observed\""
   ]
  },
  {
   "cell_type": "code",
   "execution_count": null,
   "id": "1959a5a9-bedb-44d3-9cd1-5f16283ba621",
   "metadata": {},
   "outputs": [],
   "source": [
    "def load_case(aoi, png_width=1000):\n",
    "    aoi_dir = ci_artifacts / aoi\n",
    "    if not aoi_dir.exists():\n",
    "        raise RuntimeError(f\"{aoi} directory not found.\")\n",
    "\n",
    "    png = aoi_dir / f\"{aoi}.png\"\n",
    "    display(Image(filename=png, width=png_width))\n",
    "\n",
    "    k_path = aoi_dir / \"known_to_compare_simplified.parquet\"\n",
    "    o_path = aoi_dir / \"observed_to_compare_simplified.parquet\"\n",
    "    if not k_path.exists():\n",
    "        raise RuntimeError(\"No data discrepencies. All's well.\")\n",
    "\n",
    "    k = geopandas.read_parquet(k_path)\n",
    "    k[COL] = \"known\"\n",
    "    o = geopandas.read_parquet(o_path)\n",
    "    o[COL] = \"observed\"\n",
    "\n",
    "    return k, o"
   ]
  },
  {
   "cell_type": "code",
   "execution_count": null,
   "id": "dceaa665-c6f2-4bca-aa01-68384ae13841",
   "metadata": {},
   "outputs": [],
   "source": [
    "def explore_case(k, o):\n",
    "    m = k.explore(column=COL, cmap=\"Paired\", style_kwds={\"weight\": 10, \"opacity\": 0.9})\n",
    "    return o.explore(\n",
    "        m=m, column=COL, cmap=\"Paired_r\", style_kwds={\"weight\": 4, \"opacity\": 0.9}\n",
    "    )"
   ]
  },
  {
   "cell_type": "markdown",
   "id": "997091ae-fa9e-4338-b03d-c88b027f47b8",
   "metadata": {},
   "source": [
    "---------------------\n",
    "\n",
    "## aleppo_1133"
   ]
  },
  {
   "cell_type": "code",
   "execution_count": null,
   "id": "96a1397c-05ba-43cd-bd2e-e676e7ed9990",
   "metadata": {},
   "outputs": [],
   "source": [
    "known, observed = load_case(\"aleppo_1133\")"
   ]
  },
  {
   "cell_type": "code",
   "execution_count": null,
   "id": "fe9075b1-be4e-47b7-a97c-21a253d28893",
   "metadata": {},
   "outputs": [],
   "source": [
    "known"
   ]
  },
  {
   "cell_type": "code",
   "execution_count": null,
   "id": "fe20a604-2c3c-4460-8828-216550a094f0",
   "metadata": {},
   "outputs": [],
   "source": [
    "observed"
   ]
  },
  {
   "cell_type": "code",
   "execution_count": null,
   "id": "f37c9845-b858-440e-9076-bbdff3da8b39",
   "metadata": {},
   "outputs": [],
   "source": [
    "explore_case(known, observed)"
   ]
  },
  {
   "cell_type": "markdown",
   "id": "4ce74f90-d1e7-44a2-a03b-ba53d07fbe86",
   "metadata": {},
   "source": [
    "---------------------\n",
    "\n",
    "## auckland_869"
   ]
  },
  {
   "cell_type": "code",
   "execution_count": null,
   "id": "0eec4bbc-7f63-448e-92e8-8fd1fc1c4f57",
   "metadata": {},
   "outputs": [],
   "source": [
    "known, observed = load_case(\"auckland_869\")"
   ]
  },
  {
   "cell_type": "code",
   "execution_count": null,
   "id": "e8de1567-93b2-4462-8697-d0466a02c486",
   "metadata": {},
   "outputs": [],
   "source": [
    "known"
   ]
  },
  {
   "cell_type": "code",
   "execution_count": null,
   "id": "6bb1e0b7-09d2-4a1e-907c-6d7b7ec46a61",
   "metadata": {},
   "outputs": [],
   "source": [
    "observed"
   ]
  },
  {
   "cell_type": "code",
   "execution_count": null,
   "id": "2c60bfc4-3702-4a9d-8d6e-c807b3738bfa",
   "metadata": {},
   "outputs": [],
   "source": [
    "explore_case(known, observed)"
   ]
  },
  {
   "cell_type": "markdown",
   "id": "9498d6cf-bc77-444d-95ec-85f2fe267770",
   "metadata": {},
   "source": [
    "---------------------\n",
    "\n",
    "## bucaramanga_4617"
   ]
  },
  {
   "cell_type": "code",
   "execution_count": null,
   "id": "3cd647da-66b3-4737-bcd7-75d106ad52d2",
   "metadata": {},
   "outputs": [],
   "source": [
    "known, observed = load_case(\"bucaramanga_4617\")"
   ]
  },
  {
   "cell_type": "code",
   "execution_count": null,
   "id": "8fa2a952-5083-4832-a4ed-a1d0c081d29b",
   "metadata": {},
   "outputs": [],
   "source": [
    "known"
   ]
  },
  {
   "cell_type": "code",
   "execution_count": null,
   "id": "8a771642-cdd6-47be-8fa8-8e505c1423ec",
   "metadata": {},
   "outputs": [],
   "source": [
    "observed"
   ]
  },
  {
   "cell_type": "code",
   "execution_count": null,
   "id": "7aa377bf-a435-4643-91c1-a36464829e3e",
   "metadata": {},
   "outputs": [],
   "source": [
    "explore_case(known, observed)"
   ]
  },
  {
   "cell_type": "markdown",
   "id": "a2de2872-2b83-4607-a1af-cebb2c92fd9b",
   "metadata": {},
   "source": [
    "---------------------\n",
    "\n",
    "## douala_809"
   ]
  },
  {
   "cell_type": "code",
   "execution_count": null,
   "id": "b4f2e58b-06cf-47db-87f7-f4549db5bdf9",
   "metadata": {},
   "outputs": [],
   "source": [
    "known, observed = load_case(\"douala_809\")"
   ]
  },
  {
   "cell_type": "code",
   "execution_count": null,
   "id": "d193fb0d-c2bf-4359-b5c4-d1b1b65f37cb",
   "metadata": {},
   "outputs": [],
   "source": [
    "known"
   ]
  },
  {
   "cell_type": "code",
   "execution_count": null,
   "id": "b5b70256-962e-4d4e-87b0-a87661dc7d1c",
   "metadata": {},
   "outputs": [],
   "source": [
    "observed"
   ]
  },
  {
   "cell_type": "code",
   "execution_count": null,
   "id": "d1dba561-3d30-4fd3-a1d0-8d02c234eb51",
   "metadata": {},
   "outputs": [],
   "source": [
    "explore_case(known, observed)"
   ]
  },
  {
   "cell_type": "markdown",
   "id": "089f249e-d920-4d68-8dc4-8aef72f19f4e",
   "metadata": {},
   "source": [
    "---------------------\n",
    "\n",
    "## liege_1656"
   ]
  },
  {
   "cell_type": "code",
   "execution_count": null,
   "id": "91c4d5fa-ce4b-45d0-bac7-113d69f6d3cd",
   "metadata": {},
   "outputs": [],
   "source": [
    "known, observed = load_case(\"liege_1656\")"
   ]
  },
  {
   "cell_type": "code",
   "execution_count": null,
   "id": "55782fc4-cae8-4a7b-bd4c-732884f3ec9e",
   "metadata": {},
   "outputs": [],
   "source": [
    "known"
   ]
  },
  {
   "cell_type": "code",
   "execution_count": null,
   "id": "26b87590-c14a-4a35-a7a6-29f7e1e372d7",
   "metadata": {},
   "outputs": [],
   "source": [
    "observed"
   ]
  },
  {
   "cell_type": "code",
   "execution_count": null,
   "id": "37599c1a-4a0a-40e1-9dd9-8ee2489bcddf",
   "metadata": {},
   "outputs": [],
   "source": [
    "explore_case(known, observed)"
   ]
  },
  {
   "cell_type": "markdown",
   "id": "eed69717-8e02-4ab4-a9bf-783bc8221fe7",
   "metadata": {},
   "source": [
    "---------------------\n",
    "\n",
    "## slc_4881"
   ]
  },
  {
   "cell_type": "code",
   "execution_count": null,
   "id": "4d66b618-f2c5-4cfb-bf76-ca11d0b958db",
   "metadata": {},
   "outputs": [],
   "source": [
    "known, observed = load_case(\"slc_4881\")"
   ]
  },
  {
   "cell_type": "code",
   "execution_count": null,
   "id": "b1c20bb1-b31f-45cf-931a-6b8861ae190f",
   "metadata": {},
   "outputs": [],
   "source": [
    "known"
   ]
  },
  {
   "cell_type": "code",
   "execution_count": null,
   "id": "4f9b4982-4a78-4399-8983-327105eb8f9b",
   "metadata": {},
   "outputs": [],
   "source": [
    "observed"
   ]
  },
  {
   "cell_type": "code",
   "execution_count": null,
   "id": "eb0a08d6-78e2-49ba-940b-d1b7dd4d5db0",
   "metadata": {},
   "outputs": [],
   "source": [
    "explore_case(known, observed)"
   ]
  },
  {
   "cell_type": "markdown",
   "id": "efdf3dcf-5f5f-4d67-810c-92b13738a738",
   "metadata": {},
   "source": [
    "---------------------\n",
    "\n",
    "## wuhan_8989"
   ]
  },
  {
   "cell_type": "code",
   "execution_count": null,
   "id": "97aaef5c-e656-451d-a3a9-82f03d360e71",
   "metadata": {},
   "outputs": [],
   "source": [
    "known, observed = load_case(\"wuhan_8989\")"
   ]
  },
  {
   "cell_type": "code",
   "execution_count": null,
   "id": "2bd63d4b-86ff-4a5c-ab8f-389a71ebdfe1",
   "metadata": {},
   "outputs": [],
   "source": [
    "known"
   ]
  },
  {
   "cell_type": "code",
   "execution_count": null,
   "id": "bad8b57e-28a5-4083-b4b6-6f39bb6ed976",
   "metadata": {},
   "outputs": [],
   "source": [
    "observed"
   ]
  },
  {
   "cell_type": "code",
   "execution_count": null,
   "id": "c05d67d7-926b-4b7f-af44-64439f2d18d7",
   "metadata": {},
   "outputs": [],
   "source": [
    "explore_case(known, observed)"
   ]
  }
 ],
 "metadata": {
  "kernelspec": {
   "display_name": "Python 3 (ipykernel)",
   "language": "python",
   "name": "python3"
  },
  "language_info": {
   "codemirror_mode": {
    "name": "ipython",
    "version": 3
   },
   "file_extension": ".py",
   "mimetype": "text/x-python",
   "name": "python",
   "nbconvert_exporter": "python",
   "pygments_lexer": "ipython3",
   "version": "3.13.5"
  }
 },
 "nbformat": 4,
 "nbformat_minor": 5
}
