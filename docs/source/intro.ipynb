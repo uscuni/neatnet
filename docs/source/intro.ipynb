{
 "cells": [
  {
   "cell_type": "markdown",
   "id": "85b12e97-6f43-456c-acc2-eb54c7019076",
   "metadata": {},
   "source": [
    "# Intro"
   ]
  }
 ],
 "metadata": {
  "kernelspec": {
   "display_name": "Python 3 (ipykernel)",
   "language": "python",
   "name": "python3"
  },
  "language_info": {
   "codemirror_mode": {
    "name": "ipython",
    "version": 3
   },
   "file_extension": ".py",
   "mimetype": "text/x-python",
   "name": "python",
   "nbconvert_exporter": "python",
   "pygments_lexer": "ipython3",
   "version": "3.13.1"
  }
 },
 "nbformat": 4,
 "nbformat_minor": 5
}
